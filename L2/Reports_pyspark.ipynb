{
  "nbformat": 4,
  "nbformat_minor": 0,
  "metadata": {
    "colab": {
      "name": "L2_BD_Gershevskiy.ipynb",
      "provenance": [],
      "collapsed_sections": []
    },
    "kernelspec": {
      "name": "python3",
      "display_name": "Python 3"
    },
    "language_info": {
      "name": "python"
    }
  },
  "cells": [
    {
      "cell_type": "code",
      "source": [
        "!pip install pyspark"
      ],
      "metadata": {
        "colab": {
          "base_uri": "https://localhost:8080/"
        },
        "id": "AbVsnt_BQmLZ",
        "outputId": "b09aed84-012d-4ea8-c200-4e2610f19f8f"
      },
      "execution_count": 1,
      "outputs": [
        {
          "output_type": "stream",
          "name": "stdout",
          "text": [
            "Collecting pyspark\n",
            "  Downloading pyspark-3.2.0.tar.gz (281.3 MB)\n",
            "\u001b[K     |████████████████████████████████| 281.3 MB 35 kB/s \n",
            "\u001b[?25hCollecting py4j==0.10.9.2\n",
            "  Downloading py4j-0.10.9.2-py2.py3-none-any.whl (198 kB)\n",
            "\u001b[K     |████████████████████████████████| 198 kB 57.2 MB/s \n",
            "\u001b[?25hBuilding wheels for collected packages: pyspark\n",
            "  Building wheel for pyspark (setup.py) ... \u001b[?25l\u001b[?25hdone\n",
            "  Created wheel for pyspark: filename=pyspark-3.2.0-py2.py3-none-any.whl size=281805912 sha256=dc6f8eb06c5378f54d9a68a91cce1a858de457b2ddb99fe826c65e0eecba45b4\n",
            "  Stored in directory: /root/.cache/pip/wheels/0b/de/d2/9be5d59d7331c6c2a7c1b6d1a4f463ce107332b1ecd4e80718\n",
            "Successfully built pyspark\n",
            "Installing collected packages: py4j, pyspark\n",
            "Successfully installed py4j-0.10.9.2 pyspark-3.2.0\n"
          ]
        }
      ]
    },
    {
      "cell_type": "code",
      "execution_count": 2,
      "metadata": {
        "id": "MikeD_bhQCyU"
      },
      "outputs": [],
      "source": [
        "import pyspark\n",
        "import os\n",
        "\n",
        "from datetime import datetime\n",
        "from pyspark.sql.functions import col\n",
        "from pyspark.sql import SparkSession\n",
        "from pyspark import SparkContext, SparkConf\n",
        "from pyspark.sql.types import StructType, StructField, StringType, DateType"
      ]
    },
    {
      "cell_type": "code",
      "source": [
        "os.environ['PYSPARK_SUBMIT_ARGS'] = '--packages com.databricks:spark-xml_2.12:0.13.0 pyspark-shell'\n",
        "sc = SparkSession.builder.appName(\"L2\").master(\"local[*]\").getOrCreate()"
      ],
      "metadata": {
        "id": "gFWcLLvcQiP6"
      },
      "execution_count": 3,
      "outputs": []
    },
    {
      "cell_type": "code",
      "source": [
        "sc"
      ],
      "metadata": {
        "colab": {
          "base_uri": "https://localhost:8080/",
          "height": 216
        },
        "id": "6K70r--W_X05",
        "outputId": "92659f54-ad5c-431d-f35b-f8dbb787d56d"
      },
      "execution_count": 4,
      "outputs": [
        {
          "output_type": "execute_result",
          "data": {
            "text/html": [
              "\n",
              "            <div>\n",
              "                <p><b>SparkSession - in-memory</b></p>\n",
              "                \n",
              "        <div>\n",
              "            <p><b>SparkContext</b></p>\n",
              "\n",
              "            <p><a href=\"http://f32a7503f95a:4040\">Spark UI</a></p>\n",
              "\n",
              "            <dl>\n",
              "              <dt>Version</dt>\n",
              "                <dd><code>v3.2.0</code></dd>\n",
              "              <dt>Master</dt>\n",
              "                <dd><code>local[*]</code></dd>\n",
              "              <dt>AppName</dt>\n",
              "                <dd><code>L2</code></dd>\n",
              "            </dl>\n",
              "        </div>\n",
              "        \n",
              "            </div>\n",
              "        "
            ],
            "text/plain": [
              "<pyspark.sql.session.SparkSession at 0x7f1668a4db50>"
            ]
          },
          "metadata": {},
          "execution_count": 4
        }
      ]
    },
    {
      "cell_type": "code",
      "source": [
        "programming_languages = sc.read.csv(\"/content/drive/MyDrive/Big_Data/programming-languages.csv\")"
      ],
      "metadata": {
        "id": "b2hS-8Nz_ZJH"
      },
      "execution_count": 5,
      "outputs": []
    },
    {
      "cell_type": "code",
      "source": [
        "# Создадим список из имен языков программирования\n",
        "prog_languages_list = [str(x[0]) for x in programming_languages.collect()]"
      ],
      "metadata": {
        "id": "O0xQ8IYGqh6w"
      },
      "execution_count": 6,
      "outputs": []
    },
    {
      "cell_type": "code",
      "source": [
        "prog_languages_list[:10]"
      ],
      "metadata": {
        "colab": {
          "base_uri": "https://localhost:8080/"
        },
        "id": "kTzZVtdjq9ZA",
        "outputId": "12311284-f16d-4185-e7f3-b96b003ac846"
      },
      "execution_count": 15,
      "outputs": [
        {
          "output_type": "execute_result",
          "data": {
            "text/plain": [
              "['name',\n",
              " 'A# (Axiom)',\n",
              " 'A-0 System',\n",
              " 'A+',\n",
              " 'A++',\n",
              " 'ABAP',\n",
              " 'ABC',\n",
              " 'ABC ALGOL',\n",
              " 'ABSET',\n",
              " 'ABSYS']"
            ]
          },
          "metadata": {},
          "execution_count": 15
        }
      ]
    },
    {
      "cell_type": "code",
      "source": [
        "posts_sample = sc.read.format(\"xml\").options(rowTag=\"row\").load('/content/drive/MyDrive/Big_Data/posts_sample.xml')"
      ],
      "metadata": {
        "id": "OxlCqwdLrFn3"
      },
      "execution_count": 17,
      "outputs": []
    },
    {
      "cell_type": "code",
      "source": [
        "posts_sample.take(1)"
      ],
      "metadata": {
        "colab": {
          "base_uri": "https://localhost:8080/"
        },
        "id": "62uF1WeUtJO5",
        "outputId": "f237c79d-62c5-4188-e673-2b72b86ac827"
      },
      "execution_count": 19,
      "outputs": [
        {
          "output_type": "execute_result",
          "data": {
            "text/plain": [
              "[Row(_AcceptedAnswerId=7, _AnswerCount=13, _Body=\"<p>I want to use a track-bar to change a form's opacity.</p>\\n\\n<p>This is my code:</p>\\n\\n<pre><code>decimal trans = trackBar1.Value / 5000;\\nthis.Opacity = trans;\\n</code></pre>\\n\\n<p>When I build the application, it gives the following error:</p>\\n\\n<blockquote>\\n  <p>Cannot implicitly convert type <code>'decimal'</code> to <code>'double'</code></p>\\n</blockquote>\\n\\n<p>I tried using <code>trans</code> and <code>double</code> but then the control doesn't work. This code worked fine in a past VB.NET project.</p>\\n\", _ClosedDate=None, _CommentCount=2, _CommunityOwnedDate=datetime.datetime(2012, 10, 31, 16, 42, 47, 213000), _CreationDate=datetime.datetime(2008, 7, 31, 21, 42, 52, 667000), _FavoriteCount=48, _Id=4, _LastActivityDate=datetime.datetime(2019, 7, 19, 1, 39, 54, 173000), _LastEditDate=datetime.datetime(2019, 7, 19, 1, 39, 54, 173000), _LastEditorDisplayName='Rich B', _LastEditorUserId=3641067, _OwnerDisplayName=None, _OwnerUserId=8, _ParentId=None, _PostTypeId=1, _Score=630, _Tags='<c#><floating-point><type-conversion><double><decimal>', _Title='Convert Decimal to Double?', _ViewCount=42817)]"
            ]
          },
          "metadata": {},
          "execution_count": 19
        }
      ]
    },
    {
      "cell_type": "code",
      "source": [
        "def language_detection(x):\n",
        "  \"\"\"\n",
        "  Данная функция переводит весь текст в нижний регистр\n",
        "  и ищет название языка программирования в каждой строке,\n",
        "  если язык был найден, то создается кортеж, иначе None\n",
        "  \"\"\"\n",
        "  tag = None\n",
        "  for language in prog_languages_list:\n",
        "    if \"<\" + language.lower() + \">\" in x._Tags.lower():\n",
        "      tag = language\n",
        "      break\n",
        "  if tag is None:\n",
        "    return None\n",
        "  return (x._Id, tag)\n",
        "\n",
        "\n",
        "def check_date(x, year):\n",
        "  \"\"\"\n",
        "  Данная функция была написана для фильтрации по датам,\n",
        "  так как нас интересует период с 2010 год по 2019 год\n",
        "  \"\"\"\n",
        "  start = datetime(year=year, month=1, day=1)\n",
        "  end = datetime(year=year, month=12, day=31)\n",
        "  CreationDate = x._CreationDate\n",
        "  return CreationDate >= start and CreationDate <= end"
      ],
      "metadata": {
        "id": "4y0KLCY6tZTx"
      },
      "execution_count": 20,
      "outputs": []
    },
    {
      "cell_type": "code",
      "source": [
        "\"\"\"\n",
        "Данный кусок кода сначала убирает пустые значения и оставляет диапазон с 2010 по 2019 год,\n",
        "далее мы находим язык программирования в каждой строке и убираем пустые значения, если не был \n",
        "найден, потом смотрим, сколько раз упоминался каждый язык программирования в каждом годе и сортируем по \n",
        "количеству повторений и в конце идет сортировка от большего к меньшему по количеству упоминаний.\n",
        "\"\"\"\n",
        "\n",
        "final_result = {}\n",
        "for year in range(2010, 2020):\n",
        "  final_result[year] = posts_sample.rdd\\\n",
        "      .filter(lambda x: x._Tags is not None and check_date(x, year))\\\n",
        "      .map(language_detection)\\\n",
        "      .filter(lambda x: x is not None)\\\n",
        "      .keyBy(lambda x: x[1])\\\n",
        "      .aggregateByKey(\n",
        "          0,\n",
        "          lambda x, y: x + 1,\n",
        "          lambda x1, x2: x1 + x2,\n",
        "      )\\\n",
        "      .sortBy(lambda x: x[1], ascending=False)\\\n",
        "      .toDF()\n",
        "  final_result[year] = final_result[year].select(col(\"_1\").alias(\"Programming_language\"), \n",
        "                                                 col(\"_2\").alias(f\"Number_of_mentions_in_{year}\")).limit(10)\n",
        "  final_result[year].show()"
      ],
      "metadata": {
        "colab": {
          "base_uri": "https://localhost:8080/"
        },
        "id": "iZzSIUeKYyw3",
        "outputId": "4ff5d8d3-8498-4db3-e20c-a8b4cf95ecd2"
      },
      "execution_count": 21,
      "outputs": [
        {
          "output_type": "stream",
          "name": "stdout",
          "text": [
            "+--------------------+--------------------------+\n",
            "|Programming_language|Number_of_mentions_in_2010|\n",
            "+--------------------+--------------------------+\n",
            "|                Java|                        52|\n",
            "|          JavaScript|                        44|\n",
            "|                 PHP|                        42|\n",
            "|              Python|                        25|\n",
            "|         Objective-C|                        22|\n",
            "|                   C|                        20|\n",
            "|                Ruby|                        11|\n",
            "|              Delphi|                         7|\n",
            "|                   R|                         3|\n",
            "|                Bash|                         3|\n",
            "+--------------------+--------------------------+\n",
            "\n",
            "+--------------------+--------------------------+\n",
            "|Programming_language|Number_of_mentions_in_2011|\n",
            "+--------------------+--------------------------+\n",
            "|                 PHP|                        97|\n",
            "|                Java|                        92|\n",
            "|          JavaScript|                        82|\n",
            "|              Python|                        35|\n",
            "|         Objective-C|                        33|\n",
            "|                   C|                        24|\n",
            "|                Ruby|                        17|\n",
            "|              Delphi|                         8|\n",
            "|                Perl|                         8|\n",
            "|                Bash|                         7|\n",
            "+--------------------+--------------------------+\n",
            "\n",
            "+--------------------+--------------------------+\n",
            "|Programming_language|Number_of_mentions_in_2012|\n",
            "+--------------------+--------------------------+\n",
            "|                 PHP|                       136|\n",
            "|          JavaScript|                       129|\n",
            "|                Java|                       124|\n",
            "|              Python|                        65|\n",
            "|         Objective-C|                        45|\n",
            "|                   C|                        27|\n",
            "|                Ruby|                        25|\n",
            "|                Bash|                         9|\n",
            "|                   R|                         9|\n",
            "|              MATLAB|                         6|\n",
            "+--------------------+--------------------------+\n",
            "\n",
            "+--------------------+--------------------------+\n",
            "|Programming_language|Number_of_mentions_in_2013|\n",
            "+--------------------+--------------------------+\n",
            "|          JavaScript|                       196|\n",
            "|                Java|                       191|\n",
            "|                 PHP|                       173|\n",
            "|              Python|                        87|\n",
            "|         Objective-C|                        40|\n",
            "|                   C|                        36|\n",
            "|                Ruby|                        30|\n",
            "|                   R|                        25|\n",
            "|                Bash|                        11|\n",
            "|               Scala|                        10|\n",
            "+--------------------+--------------------------+\n",
            "\n",
            "+--------------------+--------------------------+\n",
            "|Programming_language|Number_of_mentions_in_2014|\n",
            "+--------------------+--------------------------+\n",
            "|          JavaScript|                       235|\n",
            "|                Java|                       228|\n",
            "|                 PHP|                       154|\n",
            "|              Python|                       103|\n",
            "|                   C|                        52|\n",
            "|         Objective-C|                        49|\n",
            "|                   R|                        28|\n",
            "|                Ruby|                        20|\n",
            "|              MATLAB|                        16|\n",
            "|                Bash|                        13|\n",
            "+--------------------+--------------------------+\n",
            "\n",
            "+--------------------+--------------------------+\n",
            "|Programming_language|Number_of_mentions_in_2015|\n",
            "+--------------------+--------------------------+\n",
            "|          JavaScript|                       270|\n",
            "|                Java|                       208|\n",
            "|                 PHP|                       147|\n",
            "|              Python|                       119|\n",
            "|                   R|                        43|\n",
            "|                   C|                        38|\n",
            "|         Objective-C|                        30|\n",
            "|                Ruby|                        20|\n",
            "|              MATLAB|                        16|\n",
            "|               Scala|                        13|\n",
            "+--------------------+--------------------------+\n",
            "\n",
            "+--------------------+--------------------------+\n",
            "|Programming_language|Number_of_mentions_in_2016|\n",
            "+--------------------+--------------------------+\n",
            "|          JavaScript|                       271|\n",
            "|                Java|                       178|\n",
            "|              Python|                       140|\n",
            "|                 PHP|                       126|\n",
            "|                   R|                        50|\n",
            "|                   C|                        32|\n",
            "|                Ruby|                        21|\n",
            "|                Bash|                        16|\n",
            "|               Scala|                        16|\n",
            "|              MATLAB|                        15|\n",
            "+--------------------+--------------------------+\n",
            "\n",
            "+--------------------+--------------------------+\n",
            "|Programming_language|Number_of_mentions_in_2017|\n",
            "+--------------------+--------------------------+\n",
            "|          JavaScript|                       244|\n",
            "|                Java|                       204|\n",
            "|              Python|                       185|\n",
            "|                 PHP|                       122|\n",
            "|                   R|                        53|\n",
            "|                   C|                        24|\n",
            "|         Objective-C|                        19|\n",
            "|                Ruby|                        16|\n",
            "|          TypeScript|                        14|\n",
            "|          PowerShell|                        14|\n",
            "+--------------------+--------------------------+\n",
            "\n",
            "+--------------------+--------------------------+\n",
            "|Programming_language|Number_of_mentions_in_2018|\n",
            "+--------------------+--------------------------+\n",
            "|              Python|                       214|\n",
            "|          JavaScript|                       194|\n",
            "|                Java|                       145|\n",
            "|                 PHP|                        99|\n",
            "|                   R|                        63|\n",
            "|                   C|                        24|\n",
            "|               Scala|                        22|\n",
            "|          TypeScript|                        21|\n",
            "|          PowerShell|                        13|\n",
            "|                Bash|                        12|\n",
            "+--------------------+--------------------------+\n",
            "\n",
            "+--------------------+--------------------------+\n",
            "|Programming_language|Number_of_mentions_in_2019|\n",
            "+--------------------+--------------------------+\n",
            "|              Python|                       162|\n",
            "|          JavaScript|                       131|\n",
            "|                Java|                        95|\n",
            "|                 PHP|                        59|\n",
            "|                   R|                        36|\n",
            "|                   C|                        14|\n",
            "|                  Go|                         9|\n",
            "|              MATLAB|                         9|\n",
            "|                Dart|                         9|\n",
            "|                Bash|                         8|\n",
            "+--------------------+--------------------------+\n",
            "\n"
          ]
        }
      ]
    },
    {
      "cell_type": "code",
      "source": [
        "for year in final_result.keys():\n",
        "    final_result[year].write.format(\"parquet\").save(f\"/content/drive/MyDrive/Big_Data/top_{year}\")"
      ],
      "metadata": {
        "id": "LSYthRnAt8uI"
      },
      "execution_count": 22,
      "outputs": []
    },
    {
      "cell_type": "code",
      "source": [
        ""
      ],
      "metadata": {
        "id": "1wRH2XasuI90"
      },
      "execution_count": null,
      "outputs": []
    }
  ]
}